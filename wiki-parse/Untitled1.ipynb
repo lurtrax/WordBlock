{
 "cells": [
  {
   "cell_type": "code",
   "execution_count": 5,
   "metadata": {
    "collapsed": false
   },
   "outputs": [
    {
     "data": {
      "text/plain": [
       "['Roger Federer career statistics',\n",
       " \"Tennis records of the Open Era – Men's Singles\",\n",
       " \"Tennis records of All Time - Men's Singles\",\n",
       " 'List of career achievements by Roger Federer',\n",
       " 'ATP World Tour records',\n",
       " 'ATP World Tour Awards',\n",
       " \"List of Grand Slam men's singles champions\",\n",
       " 'List of ATP number 1 ranked singles players',\n",
       " '2004 Summer Olympics national flag bearers',\n",
       " '2008 Summer Olympics national flag bearers']"
      ]
     },
     "execution_count": 5,
     "metadata": {},
     "output_type": "execute_result"
    }
   ],
   "source": [
    "import wikipedia\n",
    "from bs4 import BeautifulSoup\n",
    "Roger = wikipedia.page(\"Roger Federer\")"
   ]
  },
  {
   "cell_type": "code",
   "execution_count": 6,
   "metadata": {
    "collapsed": false
   },
   "outputs": [
    {
     "data": {
      "text/plain": [
       "['Roger Federer career statistics',\n",
       " \"Tennis records of the Open Era – Men's Singles\",\n",
       " \"Tennis records of All Time - Men's Singles\",\n",
       " 'List of career achievements by Roger Federer',\n",
       " 'ATP World Tour records',\n",
       " 'ATP World Tour Awards',\n",
       " \"List of Grand Slam men's singles champions\",\n",
       " 'List of ATP number 1 ranked singles players',\n",
       " '2004 Summer Olympics national flag bearers',\n",
       " '2008 Summer Olympics national flag bearers']"
      ]
     },
     "execution_count": 6,
     "metadata": {},
     "output_type": "execute_result"
    }
   ],
   "source": [
    "link_names = Roger.section(\"See also\").splitlines()\n",
    "link_names"
   ]
  },
  {
   "cell_type": "code",
   "execution_count": 7,
   "metadata": {
    "collapsed": true
   },
   "outputs": [],
   "source": [
    "first = wikipedia.page(link_names[0])"
   ]
  },
  {
   "cell_type": "code",
   "execution_count": 8,
   "metadata": {
    "collapsed": false
   },
   "outputs": [
    {
     "data": {
      "text/plain": [
       "<WikipediaPage 'Roger Federer career statistics'>"
      ]
     },
     "execution_count": 8,
     "metadata": {},
     "output_type": "execute_result"
    }
   ],
   "source": [
    "first"
   ]
  },
  {
   "cell_type": "code",
   "execution_count": 9,
   "metadata": {
    "collapsed": false
   },
   "outputs": [
    {
     "data": {
      "text/plain": [
       "\"This is a list of the main career statistics of Swiss professional tennis player, Roger Federer. All statistics are according to the ATP World Tour website. To date, Federer has won eighty seven ATP singles titles including a record seventeen grand slam singles titles, twenty-four ATP Masters 1000 titles and a record six year-end championships. Federer was also a Gold Medallist in men's doubles with Stan Wawrinka at the 2008 Beijing Olympics and a Silver Medallist in men's singles at the 2012 London Olympics.\\n\\n\\n== Career finals ==\\n\\n\\n=== Grand Slam tournaments ===\\n\\n\\n==== Singles: 27 (17 titles, 10 runners-up) ====\\nFederer has the highest number of major titles (17), has reached the most finals (27), the most semifinals (38), and the most quarterfinals (46). Federer is one of seven men to win all four majors, and the only man to have reached the final of each Grand Slam tournament at least five times.\\n\\n\\n=== Year–End Championship finals ===\\n\\n\\n==== Singles: 9 (6 titles, 3 runners-up) ====\\nFederer has the highest number of year-end championship titles (6); he participated for the highest number of consecutive years (13) and has appeared in the highest number of finals (9) and semifinals (12), both tied with Lendl, winning a record 48 matches, at the year-end tournament, in the process.\\n(i) = Indoor\\n\\n\\n=== Masters 1000 finals ===\\n\\n\\n==== Singles: 42 (24 titles, 18 runners-up) ====\\nFederer has the joint second highest number of tier one titles (tied with Djokovic), only behind Nadal (27). Federer has appeared in the highest number of finals (42) and the highest number of semifinals (56), tied with Nadal. Federer, Djokovic and Nadal are the only players to have reached the final of all nine current masters events. However, Federer also won the Hamburg Masters (now an ATP 500 tournament) making him the only active player (other than Nadal) to have reached the finals of ten different Masters tournaments.\\n\\n\\n==== Doubles: 3 (1 title, 2 runners-up) ====\\n\\n\\n=== Olympic medal matches ===\\n\\n\\n==== Singles: 2 (1 silver medal) ====\\n\\n\\n==== Doubles: 1 (1 gold medal) ====\\n\\n\\n=== ATP World Tour ===\\n\\n\\n==== Singles: 133 (87 titles, 46 runners-up) ====\\n\\n\\n==== Doubles: 14 (8 titles, 6 runners-up) ====\\n\\n\\n=== ATP Challenger Tour ===\\n\\n\\n==== Singles: 1 (1 title) ====\\n\\n\\n==== Doubles: 1 (1 title) ====\\n\\n\\n=== ITF Junior Circuit ===\\n\\n\\n==== Singles: 6 (5 titles, 1 runner-up) ====\\n\\n\\n==== Doubles: 4 (2 titles, 2 runners-up) ====\\n\\n\\n=== Exhibition ===\\n\\n\\n==== Singles: 5 (3 titles, 2 runners-up) ====\\n\\n\\n== Performance timelines ==\\n\\n\\n=== Singles ===\\nKey\\nWon tournament; or reached Final; Semifinal; Quarter-final; Round 4, 3, 2, 1; competed at a Round Robin stage; lost in Qualification Round; absent from tournament event; played in a Davis Cup - / Fed Cup Zonal Group (with its number indication) or Play-off; won a bronze, silver (F or S) or gold medal at the Olympics; a downgraded Masters Series/1000 tournament (Not a Masters Series); or a tournament that was Not Held in a given year.\\nTo avoid confusion and double counting, these charts are updated either at the conclusion of a tournament, or when the player's participation in the tournament has ended.\\nCurrent through the 2015 Davis Cup.\\n1 Held as Hamburg Masters (outdoor clay) until 2008, Madrid Masters (outdoor clay) 2009–present.2 Held as Stuttgart Masters (indoor hard) until 2001, Madrid Masters (indoor hard) from 2002–08, and Shanghai Masters (outdoor hard) 2009–present.\\n\\n\\n=== Doubles ===\\n1 Held as Hamburg Masters (outdoor clay) until 2008, Madrid Masters (outdoor clay) 2009–present.2 Held as Stuttgart Masters (indoor hard) until 2001, Madrid Masters (indoor hard) from 2002–08, and Shanghai Masters (outdoor hard) 2009–present.\\n\\n\\n== Record against top-20 players ==\\nFederer's match record against players who have been ranked world no. 20 or better is as follows:\\nPlayers who have been ranked world no. 1 are in boldface.\\n\\n* Statistics correct as of September 24, 2015.\\n\\n\\n=== Players with winning records against Federer ===\\nActive players are in boldface.\\n\\n*As of 06–05–2015.\\n\\n\\n=== Top 10 wins ===\\nFederer has the most wins over top 10 ranked players in the Open Era.\\n\\n\\n== ATP Tour career earnings ==\\n* As of 14 September 2015\\n\\n\\n== Longest winning streaks ==\\nFederer holds nine winning streaks of eighteen matches or more and an Open Era record of seven winning streaks of twenty matches or more with his two longest among the top 10 of the era.\\n\\n\\n=== 41-match win streak 2006–2007 ===\\nThis is the seventh longest all-surface streak of the Open Era.\\n\\n\\n=== 35-match win streak 2005 ===\\nThis is tied for eighth longest all-surface streak of the Open Era.\\n\\n\\n=== 56-match hard court win streak 2005–2006 ===\\nThis is the longest hard court streak of the Open Era.\\n\\n\\n=== 65-match grass court win streak 2003–2008 ===\\nThis is the longest grass streak of the Open Era.\\n\\n\\n== Career Grand Slam tournament seedings ==\\nThe tournaments won by Federer are in boldface. Federer has been seeded 1st in 23 Grand Slam tournaments, being 18 of those consecutively. Also, he has been seeded 1st or 2nd in 30 Grand Slams in a row and has been placed in the top 4 seeds for 10 years after winning his first Grand Slam, the 2003 Wimbledon Championships, to the 2013 Wimbledon Championships. He has both won and been runner-up at tournaments seeded 1st, 2nd, 3rd and 4th.\\n\\n\\n== Career milestone wins ==\\nBold indicates that he went on to win the tournament.\\n\\n\\n== National participation ==\\n\\n\\n=== Team competitions finals: 2 (2 titles) ===\\n\\n\\n==== Davis Cup (52–18) ====\\n  indicates the result of the Davis Cup match followed by the score, date, place of event, the zonal classification and its phase, and the court surface.\\n\\n\\n===== Wins: 1 =====\\n\\n\\n==== Hopman Cup (8–6) ====\\n  indicates the result of the Hopman Cup match followed by the score, date, place of event, competition phase, and the court surface.\\n\\n\\n===== Wins: 1 =====\\n\\n\\n=== Summer Olympics ===\\n\\n\\n==== Singles (13–5) ====\\n\\n\\n==== Doubles (7–2) ====\\n\\n\\n== See also ==\\nList of career achievements by Roger Federer\\nTennis records of the Open Era – Men's Singles\\n\\n\\n== References ==\\n\\n\\n== External links ==\\nRoger Federer career statistics at the Association of Tennis Professionals\\nRoger Federer career statistics at the International Tennis Federation\\nRoger Federer career statistics at the Davis Cup\""
      ]
     },
     "execution_count": 9,
     "metadata": {},
     "output_type": "execute_result"
    }
   ],
   "source": [
    "first.content"
   ]
  },
  {
   "cell_type": "code",
   "execution_count": null,
   "metadata": {
    "collapsed": true
   },
   "outputs": [],
   "source": []
  }
 ],
 "metadata": {
  "kernelspec": {
   "display_name": "Python 3",
   "language": "python",
   "name": "python3"
  },
  "language_info": {
   "codemirror_mode": {
    "name": "ipython",
    "version": 3
   },
   "file_extension": ".py",
   "mimetype": "text/x-python",
   "name": "python",
   "nbconvert_exporter": "python",
   "pygments_lexer": "ipython3",
   "version": "3.4.2"
  }
 },
 "nbformat": 4,
 "nbformat_minor": 0
}
