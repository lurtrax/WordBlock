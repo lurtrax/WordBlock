{
 "cells": [
  {
   "cell_type": "code",
   "execution_count": 3,
   "metadata": {
    "collapsed": false
   },
   "outputs": [
    {
     "data": {
      "text/plain": [
       "\"Roger Federer career statistics\\nTennis records of the Open Era – Men's Singles\\nTennis records of All Time - Men's Singles\\nList of career achievements by Roger Federer\\nATP World Tour records\\nATP World Tour Awards\\nList of Grand Slam men's singles champions\\nList of ATP number 1 ranked singles players\\n2004 Summer Olympics national flag bearers\\n2008 Summer Olympics national flag bearers\""
      ]
     },
     "execution_count": 3,
     "metadata": {},
     "output_type": "execute_result"
    }
   ],
   "source": [
    "import wikipedia\n",
    "from bs4 import BeautifulSoup\n",
    "Roger = wikipedia.page(\"Roger Federer\")\n",
    "link_names = Roger.section(\"See also\").splitlines()"
   ]
  },
  {
   "cell_type": "code",
   "execution_count": null,
   "metadata": {
    "collapsed": true
   },
   "outputs": [],
   "source": []
  }
 ],
 "metadata": {
  "kernelspec": {
   "display_name": "Python 3",
   "language": "python",
   "name": "python3"
  },
  "language_info": {
   "codemirror_mode": {
    "name": "ipython",
    "version": 3
   },
   "file_extension": ".py",
   "mimetype": "text/x-python",
   "name": "python",
   "nbconvert_exporter": "python",
   "pygments_lexer": "ipython3",
   "version": "3.4.2"
  }
 },
 "nbformat": 4,
 "nbformat_minor": 0
}
